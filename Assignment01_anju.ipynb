{
  "nbformat": 4,
  "nbformat_minor": 0,
  "metadata": {
    "colab": {
      "provenance": [],
      "authorship_tag": "ABX9TyOLqu5cep0MN88XSYmu3jYK",
      "include_colab_link": true
    },
    "kernelspec": {
      "name": "python3",
      "display_name": "Python 3"
    },
    "language_info": {
      "name": "python"
    }
  },
  "cells": [
    {
      "cell_type": "markdown",
      "metadata": {
        "id": "view-in-github",
        "colab_type": "text"
      },
      "source": [
        "<a href=\"https://colab.research.google.com/github/anjuts006/ict_assignments/blob/main/Assignment01_anju.ipynb\" target=\"_parent\"><img src=\"https://colab.research.google.com/assets/colab-badge.svg\" alt=\"Open In Colab\"/></a>"
      ]
    },
    {
      "cell_type": "markdown",
      "source": [
        "**1 - Grocery Billing**"
      ],
      "metadata": {
        "id": "T6JCZw6wWPED"
      }
    },
    {
      "cell_type": "code",
      "source": [
        "item1_price = int(input('item1 price: '))\n",
        "item1_quantity = int(input('item quantity: '))\n",
        "item2_price = int(input('item2 price: '))\n",
        "item2_quantity = int(input('item2 quantity: '))\n",
        "total_bill = (item1_price * item1_quantity) + (item2_price * item2_quantity)\n",
        "print(\"Total Bill = \",total_bill)"
      ],
      "metadata": {
        "colab": {
          "base_uri": "https://localhost:8080/"
        },
        "id": "WEFDwdu2ZRvk",
        "outputId": "4bf35650-4d0a-4edb-f7df-b8d162d89881"
      },
      "execution_count": null,
      "outputs": [
        {
          "output_type": "stream",
          "name": "stdout",
          "text": [
            "item1 price: 45\n",
            "item quantity: 3\n",
            "item2 price: 30\n",
            "item2 quantity: 2\n",
            "Total Bill =  195\n"
          ]
        }
      ]
    },
    {
      "cell_type": "markdown",
      "source": [
        "**2 - Temperature Conversion**"
      ],
      "metadata": {
        "id": "eNFnd-NDfm8T"
      }
    },
    {
      "cell_type": "code",
      "source": [
        "a = int(input('Enter the temperature in celsius: '))\n",
        "b = (a*9/5)+32\n",
        "print(\"Temperature in Farenheit = \",b)"
      ],
      "metadata": {
        "id": "rxzHDT6-dD_5",
        "colab": {
          "base_uri": "https://localhost:8080/"
        },
        "outputId": "16421236-c31b-4514-9a78-f8de7e829f5d"
      },
      "execution_count": null,
      "outputs": [
        {
          "output_type": "stream",
          "name": "stdout",
          "text": [
            "Enter the temperature in celsius: 30\n",
            "Temperature in Farenheit =  86.0\n"
          ]
        }
      ]
    },
    {
      "cell_type": "markdown",
      "source": [
        "**3 - Salary Slip**"
      ],
      "metadata": {
        "id": "DEH9ILlghC7i"
      }
    },
    {
      "cell_type": "code",
      "source": [
        "a = int(input('Enter the basic salary: '))\n",
        "HRA = a * (20/100)\n",
        "DA = a * (10/100)\n",
        "total_salary = a + HRA + DA\n",
        "print(\"Net salary = \",total_salary)"
      ],
      "metadata": {
        "colab": {
          "base_uri": "https://localhost:8080/"
        },
        "id": "PYcZMK28g3Eb",
        "outputId": "755f92ce-9210-4e0f-c739-f680496160a4"
      },
      "execution_count": 4,
      "outputs": [
        {
          "output_type": "stream",
          "name": "stdout",
          "text": [
            "Enter the basic salary: 20000\n",
            "Net salary =  26000.0\n"
          ]
        }
      ]
    },
    {
      "cell_type": "markdown",
      "source": [
        "**4 - Simple Interest**"
      ],
      "metadata": {
        "id": "HEtig0uKjGYa"
      }
    },
    {
      "cell_type": "code",
      "source": [
        "P = float(input(\"Enter the principal value: \"))\n",
        "R = float(input(\"Enter the rate of interest: \"))\n",
        "T = float(input(\"Enter the time (in years): \"))\n",
        "SI = P * R * T / 100\n",
        "print(\"Simple Interest = \",SI)"
      ],
      "metadata": {
        "id": "s8CbNT-ViACD",
        "colab": {
          "base_uri": "https://localhost:8080/"
        },
        "outputId": "2df86cff-7d2c-4115-8c8d-d28780247456"
      },
      "execution_count": 9,
      "outputs": [
        {
          "output_type": "stream",
          "name": "stdout",
          "text": [
            "Enter the principal value: 10000\n",
            "Enter the rate of interest: 5\n",
            "Enter the time (in years): 2\n",
            "Simple Interest =  1000.0\n"
          ]
        }
      ]
    },
    {
      "cell_type": "markdown",
      "source": [
        "**5 - Time Conversion**\n"
      ],
      "metadata": {
        "id": "jPxvPN3n5IH9"
      }
    },
    {
      "cell_type": "code",
      "source": [
        "import math"
      ],
      "metadata": {
        "id": "qNu6eky-76Rq"
      },
      "execution_count": 15,
      "outputs": []
    },
    {
      "cell_type": "code",
      "source": [
        "M = float(input(\"Enter total minutes: \"))\n",
        "T = M/60\n",
        "hr = math.floor(M // 60)\n",
        "min = math.floor(M % 60)\n",
        "print(hr,\" hours\",min,\"  minutes\")"
      ],
      "metadata": {
        "colab": {
          "base_uri": "https://localhost:8080/"
        },
        "id": "DL-VnQl91kLo",
        "outputId": "d55d2d7c-f1af-4138-b122-299e2427956b"
      },
      "execution_count": 21,
      "outputs": [
        {
          "output_type": "stream",
          "name": "stdout",
          "text": [
            "Enter total minutes: 130\n",
            "2  hours 10   minutes\n"
          ]
        }
      ]
    },
    {
      "cell_type": "markdown",
      "source": [
        "**6 - BMI Calculator**"
      ],
      "metadata": {
        "id": "YPk9a3ef_cov"
      }
    },
    {
      "cell_type": "code",
      "source": [
        "W = float(input(\"Weight = \"))\n",
        "H = float(input(\"Height = \"))\n",
        "BMI = W / (H**2)\n",
        "print(\"BMI = \",BMI)"
      ],
      "metadata": {
        "colab": {
          "base_uri": "https://localhost:8080/"
        },
        "id": "KZthX8jI6lX0",
        "outputId": "91098c0b-79e6-4244-c3a5-bfc1490a0059"
      },
      "execution_count": 23,
      "outputs": [
        {
          "output_type": "stream",
          "name": "stdout",
          "text": [
            "Weight = 60\n",
            "Height = 1.65\n",
            "BMI =  22.03856749311295\n"
          ]
        }
      ]
    },
    {
      "cell_type": "markdown",
      "source": [
        "**7 - Discount Calculation**"
      ],
      "metadata": {
        "id": "rh1rw_TMAkEG"
      }
    },
    {
      "cell_type": "code",
      "source": [
        "op = int(input(\"Original Price: \"))\n",
        "dis = op - (op * 0.10)\n",
        "print(\"Discounted Price = \",dis)"
      ],
      "metadata": {
        "colab": {
          "base_uri": "https://localhost:8080/"
        },
        "id": "31yv7MGhAJgG",
        "outputId": "062caeaa-077b-446f-930f-b3051ab29862"
      },
      "execution_count": 27,
      "outputs": [
        {
          "output_type": "stream",
          "name": "stdout",
          "text": [
            "Original Price: 1200\n",
            "Discounted Price =  1080.0\n"
          ]
        }
      ]
    },
    {
      "cell_type": "markdown",
      "source": [
        "**8 - Area of a Triangle (Using Heron’s Formula)**"
      ],
      "metadata": {
        "id": "OuKjSZTtDj3M"
      }
    },
    {
      "cell_type": "code",
      "source": [
        "a = float(input(\"Enter side a: \"))\n",
        "b = float(input(\"Enter side b: \"))\n",
        "c = float(input(\"Enter side c: \"))\n",
        "s = (a + b + c)/2\n",
        "area = math.sqrt(s*(s-a)*(s-b)*(s-c))\n",
        "print(\"Area of the triangle = \",area)"
      ],
      "metadata": {
        "colab": {
          "base_uri": "https://localhost:8080/"
        },
        "id": "u6uEOHOlCMyc",
        "outputId": "bf84067e-6154-4aa3-ec74-efc8399cb329"
      },
      "execution_count": 28,
      "outputs": [
        {
          "output_type": "stream",
          "name": "stdout",
          "text": [
            "Enter side a: 5\n",
            "Enter side b: 6\n",
            "Enter side c: 7\n",
            "Area of the triangle =  14.696938456699069\n"
          ]
        }
      ]
    },
    {
      "cell_type": "markdown",
      "source": [
        "**9 - Paint Cost Estimator**"
      ],
      "metadata": {
        "id": "E9TGleEDEnFi"
      }
    },
    {
      "cell_type": "code",
      "source": [
        "a = float(input(\"Enter wall length (in meters): \"))\n",
        "b = float(input(\"Enter wall height (in meters): \"))\n",
        "area = a * b\n",
        "area_w = 2*(1.5 * 1.2)\n",
        "paint = area - area_w\n",
        "print(\"Total area to be painted\",paint,\"sq.m\")\n",
        "cost = paint * 25\n",
        "print(\"Total painting cost = \",cost)"
      ],
      "metadata": {
        "colab": {
          "base_uri": "https://localhost:8080/"
        },
        "id": "k_6GDYdCEjIi",
        "outputId": "9ecf186f-d8ed-4339-cd24-1d91bddd4e55"
      },
      "execution_count": 30,
      "outputs": [
        {
          "output_type": "stream",
          "name": "stdout",
          "text": [
            "Enter wall length (in meters): 12\n",
            "Enter wall height (in meters): 8\n",
            "Total area to be painted 92.4 sq.m\n",
            "Total painting cost =  2310.0\n"
          ]
        }
      ]
    },
    {
      "cell_type": "markdown",
      "source": [
        "**10 - Electricity Bill Calculator**"
      ],
      "metadata": {
        "id": "iZALDKmDQbEX"
      }
    },
    {
      "cell_type": "code",
      "source": [
        "a = float(input(\"Enter number of units consumed: \"))\n",
        "r = 5.2\n",
        "f = 100\n",
        "bill_amount = (a * r) + f\n",
        "print(\"Electricity Bill = \",bill_amount)"
      ],
      "metadata": {
        "colab": {
          "base_uri": "https://localhost:8080/"
        },
        "id": "sxKvrBueGm-A",
        "outputId": "42f1d37e-1fae-4d60-8c0d-f85d1b6081e7"
      },
      "execution_count": 31,
      "outputs": [
        {
          "output_type": "stream",
          "name": "stdout",
          "text": [
            "Enter number of units consumed: 250\n",
            "Electricity Bill =  1400.0\n"
          ]
        }
      ]
    }
  ]
}