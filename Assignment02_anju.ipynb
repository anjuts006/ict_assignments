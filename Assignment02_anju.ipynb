{
  "nbformat": 4,
  "nbformat_minor": 0,
  "metadata": {
    "colab": {
      "provenance": [],
      "authorship_tag": "ABX9TyNDu3QqWApOaSSQIRwHpJF7",
      "include_colab_link": true
    },
    "kernelspec": {
      "name": "python3",
      "display_name": "Python 3"
    },
    "language_info": {
      "name": "python"
    }
  },
  "cells": [
    {
      "cell_type": "markdown",
      "metadata": {
        "id": "view-in-github",
        "colab_type": "text"
      },
      "source": [
        "<a href=\"https://colab.research.google.com/github/anjuts006/ict_assignments/blob/main/Assignment02_anju.ipynb\" target=\"_parent\"><img src=\"https://colab.research.google.com/assets/colab-badge.svg\" alt=\"Open In Colab\"/></a>"
      ]
    },
    {
      "cell_type": "markdown",
      "source": [
        "**1 - FizzBuzz**"
      ],
      "metadata": {
        "id": "R1o0vswyAUJI"
      }
    },
    {
      "cell_type": "code",
      "execution_count": 3,
      "metadata": {
        "colab": {
          "base_uri": "https://localhost:8080/"
        },
        "id": "xN7925HP_8Se",
        "outputId": "b66fd25c-b7d5-49bb-c5c7-3f42b101a1ac"
      },
      "outputs": [
        {
          "output_type": "stream",
          "name": "stdout",
          "text": [
            "1\n",
            "2\n",
            "3 = Fizz\n",
            "4\n",
            "5 = Buzz\n",
            "6 = Fizz\n",
            "7\n",
            "8\n",
            "9 = Fizz\n",
            "10 = Buzz\n",
            "11\n",
            "12 = Fizz\n",
            "13\n",
            "14\n",
            "15 = FizzBuzz\n",
            "16\n",
            "17\n",
            "18 = Fizz\n",
            "19\n",
            "20 = Buzz\n",
            "21 = Fizz\n",
            "22\n",
            "23\n",
            "24 = Fizz\n",
            "25 = Buzz\n",
            "26\n",
            "27 = Fizz\n",
            "28\n",
            "29\n",
            "30 = FizzBuzz\n",
            "31\n",
            "32\n",
            "33 = Fizz\n",
            "34\n",
            "35 = Buzz\n",
            "36 = Fizz\n",
            "37\n",
            "38\n",
            "39 = Fizz\n",
            "40 = Buzz\n",
            "41\n",
            "42 = Fizz\n",
            "43\n",
            "44\n",
            "45 = FizzBuzz\n",
            "46\n",
            "47\n",
            "48 = Fizz\n",
            "49\n",
            "50 = Buzz\n",
            "51 = Fizz\n",
            "52\n",
            "53\n",
            "54 = Fizz\n",
            "55 = Buzz\n",
            "56\n",
            "57 = Fizz\n",
            "58\n",
            "59\n",
            "60 = FizzBuzz\n",
            "61\n",
            "62\n",
            "63 = Fizz\n",
            "64\n",
            "65 = Buzz\n",
            "66 = Fizz\n",
            "67\n",
            "68\n",
            "69 = Fizz\n",
            "70 = Buzz\n",
            "71\n",
            "72 = Fizz\n",
            "73\n",
            "74\n",
            "75 = FizzBuzz\n",
            "76\n",
            "77\n",
            "78 = Fizz\n",
            "79\n",
            "80 = Buzz\n",
            "81 = Fizz\n",
            "82\n",
            "83\n",
            "84 = Fizz\n",
            "85 = Buzz\n",
            "86\n",
            "87 = Fizz\n",
            "88\n",
            "89\n",
            "90 = FizzBuzz\n",
            "91\n",
            "92\n",
            "93 = Fizz\n",
            "94\n",
            "95 = Buzz\n",
            "96 = Fizz\n",
            "97\n",
            "98\n",
            "99 = Fizz\n",
            "100 = Buzz\n"
          ]
        }
      ],
      "source": [
        "for i in range(1,101):\n",
        "  if i%3==0 and i%5==0:\n",
        "    print(i,'= FizzBuzz')\n",
        "  elif i%3==0:\n",
        "    print(i,'= Fizz')\n",
        "  elif i%5==0:\n",
        "    print(i,'= Buzz')\n",
        "  else:\n",
        "    print(i)"
      ]
    },
    {
      "cell_type": "markdown",
      "source": [
        "**2 - Electricity Bill calculator**"
      ],
      "metadata": {
        "id": "sm29GjueD0Xk"
      }
    },
    {
      "cell_type": "code",
      "source": [
        "unit = float(input(\"Enter the number of units consumed: \"))\n",
        "bill_amount = 0\n",
        "if unit<=100:\n",
        "  bill_amount = unit*5\n",
        "elif unit<=200:\n",
        "  bill_amount = (100*5)+(unit-100)*7\n",
        "else:\n",
        "  bill_amount = (100*5)+(100*7)+((unit-200)*10)\n",
        "  print(\"Total Bill Amount = ₹\",bill_amount)\n"
      ],
      "metadata": {
        "colab": {
          "base_uri": "https://localhost:8080/"
        },
        "id": "FwqjxFGpClH-",
        "outputId": "9adb111d-326c-424b-f504-ac419e23b812"
      },
      "execution_count": 5,
      "outputs": [
        {
          "output_type": "stream",
          "name": "stdout",
          "text": [
            "Enter the number of units consumed: 245\n",
            "Total Bill Amount = ₹ 1650.0\n"
          ]
        }
      ]
    },
    {
      "cell_type": "markdown",
      "source": [
        "**3 - Pattern**"
      ],
      "metadata": {
        "id": "VV__R3VqHDW5"
      }
    },
    {
      "cell_type": "code",
      "source": [
        "for i in range(1,6):\n",
        "  print('*' * i)"
      ],
      "metadata": {
        "colab": {
          "base_uri": "https://localhost:8080/"
        },
        "id": "f8G0wv1qFATT",
        "outputId": "72320a30-597f-48ec-828d-8c01f343260e"
      },
      "execution_count": 6,
      "outputs": [
        {
          "output_type": "stream",
          "name": "stdout",
          "text": [
            "*\n",
            "**\n",
            "***\n",
            "****\n",
            "*****\n"
          ]
        }
      ]
    },
    {
      "cell_type": "markdown",
      "source": [
        "**4 - Palindrome**"
      ],
      "metadata": {
        "id": "ZlbaJQsIHNDw"
      }
    },
    {
      "cell_type": "code",
      "source": [
        "s = input(\"Enter a string or number to check if it's a palindrome: \")\n",
        "s = str(s)\n",
        "reversed_s = s[::-1]\n",
        "if s == reversed_s:\n",
        "  print(\"Given number or string is a palindrome\")\n",
        "else:\n",
        "  print(\"Given number or string is not a palindrome\")"
      ],
      "metadata": {
        "colab": {
          "base_uri": "https://localhost:8080/"
        },
        "id": "ntOsuV1YJNWP",
        "outputId": "7d772092-f48e-4aa8-bd9a-1b0d1e0a9a85"
      },
      "execution_count": 21,
      "outputs": [
        {
          "output_type": "stream",
          "name": "stdout",
          "text": [
            "Enter a string or number to check if it's a palindrome: 121\n",
            "Given number or string is a palindrome\n"
          ]
        }
      ]
    }
  ]
}